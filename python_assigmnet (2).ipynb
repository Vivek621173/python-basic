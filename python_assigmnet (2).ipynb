{
  "nbformat": 4,
  "nbformat_minor": 0,
  "metadata": {
    "colab": {
      "provenance": []
    },
    "kernelspec": {
      "name": "python3",
      "display_name": "Python 3"
    },
    "language_info": {
      "name": "python"
    }
  },
  "cells": [
    {
      "cell_type": "code",
      "execution_count": null,
      "metadata": {
        "id": "_8x9D5bNIgEf"
      },
      "outputs": [],
      "source": []
    },
    {
      "cell_type": "markdown",
      "source": [
        " 1  What is Python, and why is it popular\n",
        "     Ans-python is a high level programing language.and  it is used for web devlopment,data science,autumation,maching lerning ,\n",
        "       it is popular beacuse it is easy to lerarn and read,versatile,larage community,extesive, automation,\n",
        "\n",
        "\n",
        "\n",
        "2  What is an interpreter in Python\n",
        "   ans:in Python, an interpreter is a program that reads and executes Python code line by line. It translates the human-readable Python code into machine code that the computer can understand and execute. Unlike compiled languages, where the code is translated into machine code ahead of time, an interpreter processes the code dynamically, during runtime.\n",
        "\n",
        "\n",
        "3  What are pre-defined keywords in Python\n",
        "I  ans: in Python, predefined keywords are reserved words that have special meanings and are used to define the syntax and structure of the language. These keywords cannot be used as identifiers (e.g., variable names, function names, etc.) because they are part of the Python syntax.\n",
        "\n",
        "\n",
        "4  Can keywords be used as variable names\n",
        "  ans: No, keywords in Python cannot be used as variable names. Since keywords are reserved for specific purposes in the language's syntax, they have a predefined meaning, and Python will not allow you to use them as identifiers (like variable names, function names, etc.).\n",
        "\n",
        "5  What is mutability in Python\n",
        " ana: in Python, mutability refers to whether an object can be changed after it is created. Objects in Python can be either mutable or immutable, depending on whether their content can be modified.\n",
        "\n",
        "\n",
        "6  Why are lists mutable, but tuples are immutable\n",
        " ans:Lists are mutable because they are designed to be flexible and allow modifications (adding, removing, or changing elements), making them ideal for dynamic collections,\n",
        " tuples are immutable because they are meant to represent fixed, unchanging data, providing efficiency, safety, and the ability to be used as keys in dictionaries. This immutability ensures that the data remains constant throughout the program.\n",
        "\n",
        "7 What is the difference between “==” and “is” operators in Python\n",
        " ans:== checks if the values of two objects are equal.\n",
        "is checks if two objects are the same object in memory (i.e., if they have the same identity\n",
        "\n",
        "8 What are logical operators in Python\n",
        "  ans:in Python, logical operators are used to combine conditional statements and perform logical operations. They are often used in boolean expressions (i.e., expressions that evaluate to True or False\n",
        "\n",
        "9  What is type casting in Python\n",
        "  ans:Type casting in Python is the process of converting one data type into another. This is done using built-in functions that explicitly change the type of an object to another type.\n",
        "\n",
        "10 What is the difference between implicit and explicit type casting\n",
        " ans:the difference between implicit and explicit type casting in Python lies in how the conversion is performed and  whether the programmer has control over it.\n",
        "\n",
        "11 What is the purpose of conditional statements in Python\n",
        " ans:The purpose of conditional statements in Python is to allow your program to make decisions based on certain conditions. These statements enable the program to execute different blocks of code depending on whether a condition (or a set of conditions) is true or false.\n",
        "\n",
        "12 How does the elif statement work\n",
        "ans:statement in Python allows you to check multiple conditions after an initial if statement. It provides an additional opportunity to test different conditions, and only the first condition that evaluates to True will execute its corresponding block of code. If none of the if or elif conditions are true, the else block (if provided) will execute.\n",
        "\n",
        "13 What is the difference between for and while loops\n",
        " ans:The main difference between for and while loops in Python is in how they control the flow of iteration.\n",
        "\n",
        "14  Describe a scenario where a while loop is more suitable than a for loop.\n",
        "  ans:A while loop is more suitable when the number of iterations is unknown and depends on a specific condition being met during the execution of the loop. This makes it ideal for situations where you want to repeat something until a certain condition is true, rather than iterating a specific number of times.\n",
        "\n",
        "\n",
        "\n",
        "\n",
        "\n",
        "\n",
        "\n"
      ],
      "metadata": {
        "id": "kxpbPsIgIzyU"
      }
    },
    {
      "cell_type": "markdown",
      "source": [
        "1 write a  python program to print\"Hello, World!\""
      ],
      "metadata": {
        "id": "rUgupiDNvD8X"
      }
    },
    {
      "cell_type": "code",
      "source": [
        "print (\"Hello,world\")"
      ],
      "metadata": {
        "colab": {
          "base_uri": "https://localhost:8080/",
          "height": 0
        },
        "id": "-qjpGP-dMR1v",
        "outputId": "713d7a49-771d-41fb-ffbe-49cd4e5f375e"
      },
      "execution_count": 1,
      "outputs": [
        {
          "output_type": "stream",
          "name": "stdout",
          "text": [
            "Hello,world\n"
          ]
        }
      ]
    },
    {
      "cell_type": "markdown",
      "source": [
        "2 Write a Python program that displays your name and age\n"
      ],
      "metadata": {
        "id": "WyRjVrJyNCy2"
      }
    },
    {
      "cell_type": "code",
      "source": [
        "print(\"Name:\", \"vivek kr chaubey\")\n"
      ],
      "metadata": {
        "colab": {
          "base_uri": "https://localhost:8080/",
          "height": 0
        },
        "id": "3JtELGDlNRR6",
        "outputId": "d65773aa-56b0-45d8-aff1-ce72e36dd3d2"
      },
      "execution_count": 3,
      "outputs": [
        {
          "output_type": "stream",
          "name": "stdout",
          "text": [
            "Name: vivek kr chaubey\n"
          ]
        }
      ]
    },
    {
      "cell_type": "code",
      "source": [
        "print(\"age:\"), \"21\""
      ],
      "metadata": {
        "colab": {
          "base_uri": "https://localhost:8080/",
          "height": 0
        },
        "id": "qITH3LTTOgTn",
        "outputId": "e54e5809-4e06-4e4c-b52b-81645d71573f"
      },
      "execution_count": 4,
      "outputs": [
        {
          "output_type": "stream",
          "name": "stdout",
          "text": [
            "age:\n"
          ]
        },
        {
          "output_type": "execute_result",
          "data": {
            "text/plain": [
              "(None, '21')"
            ]
          },
          "metadata": {},
          "execution_count": 4
        }
      ]
    },
    {
      "cell_type": "markdown",
      "source": [
        "3 Write code to print all the pre-defined keywords in Python using the keyword library\n"
      ],
      "metadata": {
        "id": "6khIVhjzOuZ_"
      }
    },
    {
      "cell_type": "code",
      "source": [
        "\n",
        "\n",
        "print(keyword.kwlist)\n"
      ],
      "metadata": {
        "colab": {
          "base_uri": "https://localhost:8080/",
          "height": 0
        },
        "id": "uWhlRVK8PIcr",
        "outputId": "0083bc33-9b52-4f99-9bf0-c7ec045de3ad"
      },
      "execution_count": 7,
      "outputs": [
        {
          "output_type": "stream",
          "name": "stdout",
          "text": [
            "['False', 'None', 'True', 'and', 'as', 'assert', 'async', 'await', 'break', 'class', 'continue', 'def', 'del', 'elif', 'else', 'except', 'finally', 'for', 'from', 'global', 'if', 'import', 'in', 'is', 'lambda', 'nonlocal', 'not', 'or', 'pass', 'raise', 'return', 'try', 'while', 'with', 'yield']\n"
          ]
        }
      ]
    },
    {
      "cell_type": "markdown",
      "source": [
        "4 Write a program that checks if a given word is a Python keyword\n"
      ],
      "metadata": {
        "id": "A8NmLjjwP0Cm"
      }
    },
    {
      "cell_type": "code",
      "source": [
        "# Get the word to check from the user\n",
        "word = input(\"Enter a word to check: \")\n",
        "\n",
        "if keyword.iskeyword(word):\n",
        "    print(f\"'{word}' is a Python keyword.\")\n",
        "else:\n",
        "    print(f\"'{word}' is not a Python keyword.\")\n"
      ],
      "metadata": {
        "colab": {
          "base_uri": "https://localhost:8080/",
          "height": 0
        },
        "id": "EKD4wXRNQjWT",
        "outputId": "07afe8d0-52d7-41d8-ed70-4b786d21d140"
      },
      "execution_count": 12,
      "outputs": [
        {
          "output_type": "stream",
          "name": "stdout",
          "text": [
            "Enter a word to check: \"def\" \n",
            "'\"def\" ' is not a Python keyword.\n"
          ]
        }
      ]
    },
    {
      "cell_type": "markdown",
      "source": [
        "5 Create a list and tuple in Python, and demonstrate how attempting to change an element works differently\n",
        "for each"
      ],
      "metadata": {
        "id": "F5bLAj_0SFv5"
      }
    },
    {
      "cell_type": "code",
      "source": [
        "# Creating a list\n",
        "my_list = [1, 2, 3, 4, 5]\n",
        "\n",
        "# Creating a tuple\n",
        "my_tuple = (1, 2, 3, 4, 5)\n",
        "\n",
        "# Trying to change an element in the list\n",
        "print(\"Original list:\", my_list)\n",
        "my_list[2] = 10  # Changing the element at index 2 (third element)\n",
        "print(\"Modified list:\", my_list)\n",
        "\n",
        "# Trying to change an element in the tuple (This will raise an error)\n",
        "print(\"Original tuple:\", my_tuple)\n",
        "try:\n",
        "    my_tuple[2] = 10  # This will throw an error because tuples are immutable\n",
        "except TypeError as e:\n",
        "    print(\"Error while modifying tuple:\", e)"
      ],
      "metadata": {
        "colab": {
          "base_uri": "https://localhost:8080/",
          "height": 0
        },
        "id": "LoObSisESXdd",
        "outputId": "7351c73a-b76f-4b10-ca33-4e19a29a253e"
      },
      "execution_count": 13,
      "outputs": [
        {
          "output_type": "stream",
          "name": "stdout",
          "text": [
            "Original list: [1, 2, 3, 4, 5]\n",
            "Modified list: [1, 2, 10, 4, 5]\n",
            "Original tuple: (1, 2, 3, 4, 5)\n",
            "Error while modifying tuple: 'tuple' object does not support item assignment\n"
          ]
        }
      ]
    },
    {
      "cell_type": "markdown",
      "source": [
        "6 Write a function to demonstrate the behavior of mutable and immutable arguments0\n"
      ],
      "metadata": {
        "id": "MMwx1dgJSxXq"
      }
    },
    {
      "cell_type": "code",
      "source": [
        "def modify_values(mutable_arg, immutable_arg):\n",
        "    \"\"\"\n",
        "    This function demonstrates the difference in behavior when modifying\n",
        "    mutable and immutable arguments within a function.\n",
        "\n",
        "    Args:\n",
        "        mutable_arg: A mutable object (e.g., a list).\n",
        "        immutable_arg: An immutable object (e.g., a string).\n",
        "    \"\"\"\n",
        "\n",
        "    # Modifying the mutable argument (a list)\n",
        "    mutable_arg.append(4)  # This change will affect the original list\n",
        "\n",
        "    # Trying to modify the immutable argument (a string)\n",
        "    try:\n",
        "        immutable_arg += \" World\"  # This creates a new string object\n",
        "    except TypeError as e:\n",
        "        print(\"Error: Immutable objects cannot be changed in-place:\", e)\n",
        "\n",
        "    print(\"Inside function - Mutable argument:\", mutable_arg)\n",
        "    print(\"Inside function - Immutable argument:\", immutable_arg)\n",
        "\n",
        "\n",
        "# Calling the function with a mutable and an immutable argument\n",
        "mutable_list = [1, 2, 3]\n",
        "immutable_str = \"Hello\"\n",
        "\n",
        "print(\"Before function call:\")\n",
        "print(\"Mutable list:\", mutable_list)\n",
        "print(\"Immutable string:\", immutable_str)\n",
        "\n",
        "# Call the function\n",
        "modify_values(mutable_list, immutable_str)\n",
        "\n",
        "print(\"\\nAfter function call:\")\n",
        "print(\"Mutable list:\", mutable_list)\n",
        "print(\"Immutable string:\", immutable_str)"
      ],
      "metadata": {
        "colab": {
          "base_uri": "https://localhost:8080/",
          "height": 0
        },
        "id": "3c_ISDjCT9w7",
        "outputId": "b28e1f7a-5015-4df0-84e5-ed92fe1a3b05"
      },
      "execution_count": 16,
      "outputs": [
        {
          "output_type": "stream",
          "name": "stdout",
          "text": [
            "Before function call:\n",
            "Mutable list: [1, 2, 3]\n",
            "Immutable string: Hello\n",
            "Inside function - Mutable argument: [1, 2, 3, 4]\n",
            "Inside function - Immutable argument: Hello World\n",
            "\n",
            "After function call:\n",
            "Mutable list: [1, 2, 3, 4]\n",
            "Immutable string: Hello\n"
          ]
        }
      ]
    },
    {
      "cell_type": "markdown",
      "source": [
        "7 Write a function to demonstrate the behavior of mutable and immutable arguments0\n"
      ],
      "metadata": {
        "id": "ly3aNReRUDVY"
      }
    },
    {
      "cell_type": "code",
      "source": [
        "def demonstrate_mutable_immutable(mutable_arg, immutable_arg):\n",
        "    # Modifying the mutable argument (a list)\n",
        "    mutable_arg.append(4)\n",
        "\n",
        "    # Modifying the immutable argument (a string)\n",
        "    immutable_arg += \" World\"\n",
        "\n",
        "    print(\"Inside function - Mutable argument:\", mutable_arg)\n",
        "    print(\"Inside function - Immutable argument:\", immutable_arg)\n",
        "\n",
        "# Test the function\n",
        "my_list = [1, 2, 3]  # Mutable argument\n",
        "my_string = \"Hello\"  # Immutable argument\n",
        "\n",
        "print(\"Before function call:\")\n",
        "print(\"Mutable list:\", my_list)\n",
        "print(\"Immutable string:\", my_string)\n",
        "\n",
        "# Call the function\n",
        "demonstrate_mutable_immutable(my_list, my_string)\n",
        "\n",
        "print(\"\\nAfter function call:\")\n",
        "print(\"Mutable list:\", my_list)  # List is modified\n",
        "print(\"Immutable string:\", my_string)  # String is not modified\n"
      ],
      "metadata": {
        "colab": {
          "base_uri": "https://localhost:8080/",
          "height": 0
        },
        "id": "ZT-ItJcxUmln",
        "outputId": "453281e7-a6ff-478c-d785-ba087fdaea40"
      },
      "execution_count": 17,
      "outputs": [
        {
          "output_type": "stream",
          "name": "stdout",
          "text": [
            "Before function call:\n",
            "Mutable list: [1, 2, 3]\n",
            "Immutable string: Hello\n",
            "Inside function - Mutable argument: [1, 2, 3, 4]\n",
            "Inside function - Immutable argument: Hello World\n",
            "\n",
            "After function call:\n",
            "Mutable list: [1, 2, 3, 4]\n",
            "Immutable string: Hello\n"
          ]
        }
      ]
    },
    {
      "cell_type": "markdown",
      "source": [
        "8 Write a program to demonstrate the use of logical operators\n",
        "\n"
      ],
      "metadata": {
        "id": "d9EHijYIU4ru"
      }
    },
    {
      "cell_type": "code",
      "source": [
        "def logical_operators_demo(a, b):\n",
        "    # Using the `and` operator\n",
        "    if a > 0 and b > 0:\n",
        "        print(\"Both a and b are positive.\")\n",
        "\n",
        "    # Using the `or` operator\n",
        "    if a > 0 or b > 0:\n",
        "        print(\"At least one of a or b is positive.\")\n",
        "\n",
        "    # Using the `not` operator\n",
        "    if not a == b:\n",
        "        print(\"a and b are not equal.\")\n",
        "\n",
        "# Test the function with some values\n",
        "a = 5\n",
        "b = -3\n",
        "\n",
        "logical_operators_demo(a, b)\n"
      ],
      "metadata": {
        "colab": {
          "base_uri": "https://localhost:8080/",
          "height": 0
        },
        "id": "8ueNVkckVEDJ",
        "outputId": "dfc8369a-e973-4005-f7e4-315a44fb1e6a"
      },
      "execution_count": 18,
      "outputs": [
        {
          "output_type": "stream",
          "name": "stdout",
          "text": [
            "At least one of a or b is positive.\n",
            "a and b are not equal.\n"
          ]
        }
      ]
    },
    {
      "cell_type": "markdown",
      "source": [
        "9  Write a Python program to convert user input from string to integer, float, and boolean types\n"
      ],
      "metadata": {
        "id": "Z3NLMdDqV7JH"
      }
    },
    {
      "cell_type": "code",
      "source": [
        "\n",
        "def logical_operators_demo(a, b):\n",
        "    # Using the `and` operator\n",
        "    if a > 0 and b > 0:\n",
        "        print(\"Both a and b are positive.\")\n",
        "\n",
        "    # Using the `or` operator\n",
        "    if a > 0 or b > 0:\n",
        "        print(\"At least one of a or b is positive.\")\n",
        "\n",
        "    # Using the `not` operator\n",
        "    if not a == b:\n",
        "        print(\"a and b are not equal.\")\n",
        "\n",
        "# Test the function with some values\n",
        "a = 5\n",
        "b = -3\n",
        "\n",
        "logical_operators_demo(a, b)\n",
        "\n"
      ],
      "metadata": {
        "colab": {
          "base_uri": "https://localhost:8080/",
          "height": 0
        },
        "id": "GkJJoc0MWRBb",
        "outputId": "72944504-1f69-4de5-b2fe-184aef6c99d5"
      },
      "execution_count": 21,
      "outputs": [
        {
          "output_type": "stream",
          "name": "stdout",
          "text": [
            "At least one of a or b is positive.\n",
            "a and b are not equal.\n"
          ]
        }
      ]
    },
    {
      "cell_type": "markdown",
      "source": [
        "10 Write code to demonstrate type casting with list elements0\n",
        "\n"
      ],
      "metadata": {
        "id": "BCGpp1EhWfiM"
      }
    },
    {
      "cell_type": "code",
      "source": [
        "# Original list with mixed data types\n",
        "my_list = [\"10\", \"20\", \"30\", \"40.5\", \"True\"]\n",
        "\n",
        "print(\"Original list:\", my_list)\n",
        "\n",
        "# Type casting list elements to integers (from strings)\n",
        "int_list = [int(item) if item.isdigit() else 0 for item in my_list]\n",
        "print(\"List after casting to integers:\", int_list)\n",
        "\n",
        "# Type casting list elements to floats (from strings or integers)\n",
        "float_list = [float(item) if item.replace('.', '', 1).isdigit() else 0.0 for item in my_list]\n",
        "print(\"List after casting to floats:\", float_list)\n",
        "\n",
        "# Type casting list elements to booleans\n",
        "bool_list = [bool(item) for item in my_list]\n",
        "print(\"List after casting to booleans:\", bool_list)\n"
      ],
      "metadata": {
        "colab": {
          "base_uri": "https://localhost:8080/",
          "height": 0
        },
        "id": "GyI-8PC5XiSX",
        "outputId": "0b80197d-6c2f-4c7e-8f92-af60e993dd07"
      },
      "execution_count": 22,
      "outputs": [
        {
          "output_type": "stream",
          "name": "stdout",
          "text": [
            "Original list: ['10', '20', '30', '40.5', 'True']\n",
            "List after casting to integers: [10, 20, 30, 0, 0]\n",
            "List after casting to floats: [10.0, 20.0, 30.0, 40.5, 0.0]\n",
            "List after casting to booleans: [True, True, True, True, True]\n"
          ]
        }
      ]
    },
    {
      "cell_type": "markdown",
      "source": [
        "11 Write a program that checks if a number is positive, negative, or zero\n"
      ],
      "metadata": {
        "id": "9J6mFdRNXv7a"
      }
    },
    {
      "cell_type": "code",
      "source": [
        "def check_number(num):\n",
        "    if num > 0:\n",
        "        print(f\"{num} is a positive number.\")\n",
        "    elif num < 0:\n",
        "        print(f\"{num} is a negative number.\")\n",
        "    else:\n",
        "        print(f\"{num} is zero.\")\n",
        "\n",
        "# Test the function\n",
        "number = float(input(\"Enter a number: \"))\n",
        "check_number(number)"
      ],
      "metadata": {
        "colab": {
          "base_uri": "https://localhost:8080/",
          "height": 0
        },
        "id": "HI9resjxYBFc",
        "outputId": "c26227c7-d66a-4558-975c-2874623e589a"
      },
      "execution_count": 23,
      "outputs": [
        {
          "output_type": "stream",
          "name": "stdout",
          "text": [
            "Enter a number: 9\n",
            "9.0 is a positive number.\n"
          ]
        }
      ]
    },
    {
      "cell_type": "markdown",
      "source": [
        "12 Write a for loop to print numbers from 1 to 10"
      ],
      "metadata": {
        "id": "dCZwfspCYLMD"
      }
    },
    {
      "cell_type": "code",
      "source": [
        "# Loop through numbers from 1 to 10\n",
        "for num in range(1, 11):\n",
        "    print(num)\n"
      ],
      "metadata": {
        "colab": {
          "base_uri": "https://localhost:8080/",
          "height": 0
        },
        "id": "ucf7mTvmYj4N",
        "outputId": "d28f10a0-abc0-4742-e447-27eecbe007a8"
      },
      "execution_count": 24,
      "outputs": [
        {
          "output_type": "stream",
          "name": "stdout",
          "text": [
            "1\n",
            "2\n",
            "3\n",
            "4\n",
            "5\n",
            "6\n",
            "7\n",
            "8\n",
            "9\n",
            "10\n"
          ]
        }
      ]
    },
    {
      "cell_type": "markdown",
      "source": [
        "13 Write a Python program to find the sum of all even numbers between 1 and 50"
      ],
      "metadata": {
        "id": "LjzRf7hFYyUy"
      }
    },
    {
      "cell_type": "code",
      "source": [
        "# Initialize the sum to 0\n",
        "sum_of_even_numbers = 0\n",
        "\n",
        "# Loop through the range from 1 to 50\n",
        "for num in range(1, 51):\n",
        "    if num % 2 == 0:  # Check if the number is even\n",
        "        sum_of_even_numbers += num  # Add the even number to the sum\n",
        "\n",
        "# Output the result\n",
        "print(\"Sum of all even numbers between 1 and 50:\", sum_of_even_numbers)\n"
      ],
      "metadata": {
        "colab": {
          "base_uri": "https://localhost:8080/",
          "height": 0
        },
        "id": "ya5xVeCCZalG",
        "outputId": "ab980d30-87d6-43d8-b42f-6cafbba99449"
      },
      "execution_count": 28,
      "outputs": [
        {
          "output_type": "stream",
          "name": "stdout",
          "text": [
            "Sum of all even numbers between 1 and 50: 650\n"
          ]
        }
      ]
    },
    {
      "cell_type": "markdown",
      "source": [
        "14 Write a program to reverse a string using a while loop\n"
      ],
      "metadata": {
        "id": "fqMLfzYiZuH8"
      }
    },
    {
      "cell_type": "code",
      "source": [
        "# Input string\n",
        "user_input = input(\"Enter a string: \")\n",
        "\n",
        "# Initialize variables\n",
        "reversed_string = \"\"\n",
        "index = len(user_input) - 1\n",
        "\n",
        "# Use while loop to reverse the string\n",
        "while index >= 0:\n",
        "    reversed_string += user_input[index]\n",
        "    index -= 1\n",
        "\n",
        "# Print the reversed string\n",
        "print(\"Reversed string:\", reversed_string)"
      ],
      "metadata": {
        "colab": {
          "base_uri": "https://localhost:8080/",
          "height": 0
        },
        "id": "Tfxv8XtPaAIF",
        "outputId": "8cfe4aeb-d82b-4f45-956b-a4d1685e46e3"
      },
      "execution_count": 30,
      "outputs": [
        {
          "output_type": "stream",
          "name": "stdout",
          "text": [
            "Enter a string: 2\n",
            "Reversed string: 2\n"
          ]
        }
      ]
    },
    {
      "cell_type": "markdown",
      "source": [
        "15 Write a Python program to calculate the factorial of a number provided by the user using a while loop.\n"
      ],
      "metadata": {
        "id": "BOXzTKnpaV9p"
      }
    },
    {
      "cell_type": "code",
      "source": [
        "# Function to calculate the factorial using a while loop\n",
        "def calculate_factorial(n):\n",
        "    factorial = 1\n",
        "\n",
        "    # Handle case for negative numbers\n",
        "    if n < 0:\n",
        "        return \"Factorial is not defined for negative numbers.\"\n",
        "\n",
        "    # Calculate factorial using while loop\n",
        "    while n > 0:\n",
        "        factorial *= n\n",
        "        n -= 1\n",
        "\n",
        "    return factorial\n",
        "\n",
        "# Get user input\n",
        "number = int(input(\"Enter a number to calculate its factorial: \"))\n",
        "\n",
        "# Calculate and print the factorial\n",
        "result = calculate_factorial(number)\n",
        "print(f\"The factorial is: {result}\")"
      ],
      "metadata": {
        "colab": {
          "base_uri": "https://localhost:8080/",
          "height": 0
        },
        "id": "3WBTL_7VagoG",
        "outputId": "dc68d9e0-1223-488d-93b7-9468cbfccb0c"
      },
      "execution_count": 31,
      "outputs": [
        {
          "output_type": "stream",
          "name": "stdout",
          "text": [
            "Enter a number to calculate its factorial: 100\n",
            "The factorial is: 93326215443944152681699238856266700490715968264381621468592963895217599993229915608941463976156518286253697920827223758251185210916864000000000000000000000000\n"
          ]
        }
      ]
    }
  ]
}